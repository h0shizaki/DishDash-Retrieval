{
 "cells": [
  {
   "cell_type": "code",
   "execution_count": 12,
   "metadata": {},
   "outputs": [],
   "source": [
    "from elasticsearch import Elasticsearch\n",
    "import json\n",
    "from bson import ObjectId\n",
    "from elasticsearch import helpers\n",
    "import numpy as np"
   ]
  },
  {
   "cell_type": "code",
   "execution_count": 3,
   "metadata": {},
   "outputs": [],
   "source": [
    "es_client = Elasticsearch('https://localhost:9200', basic_auth=(\"elastic\", \"6E0GWL_MEddnKJWCnk*M\"),\n",
    "                    ca_certs=\"./http_ca.crt\")"
   ]
  },
  {
   "cell_type": "code",
   "execution_count": null,
   "metadata": {},
   "outputs": [],
   "source": [
    "# start = time.time()\n",
    "# text = request.args.get('text')\n",
    "\n",
    "# suggest_dictionary = {\n",
    "#     \"text\": text,\n",
    "#     \"autocomplete\": {\"term\": {\"field\": \"Description\"}},\n",
    "# }\n",
    "# query_dictionary = {\"suggest\": suggest_dictionary}\n",
    "# res = app.es_client.search(index=\"recipe\", body=query_dictionary)\n",
    "# resp = list(res[\"suggest\"][\"autocomplete\"])\n",
    "# result = []\n",
    "\n",
    "# for word in resp:\n",
    "#     text = {'text': word['text'], 'candidates': word['options']}\n",
    "#     result.append(text)\n",
    "\n",
    "# end = time.time()\n",
    "# response = {'elapse': end - start, 'result': result, 'status': 'success'}\n",
    "\n",
    "# return response"
   ]
  },
  {
   "cell_type": "code",
   "execution_count": 38,
   "metadata": {},
   "outputs": [],
   "source": [
    "suggest_dictionary = {\n",
    "    \"text\": \"pancoke blue berrt\",\n",
    "    \"autocomplete-1\": {\"term\": {\"field\": \"Description\"}},\n",
    "    \"autocomplete-2\": {\"term\": {\"field\": \"Name\"}},\n",
    "    \"autocomplete-3\": {\"term\": {\"field\": \"RecipeInstructions\"}},\n",
    "}\n",
    "\n",
    "query_dictionary = {\"suggest\": suggest_dictionary}\n",
    "res = es_client.search(index=\"recipe\", body=query_dictionary)"
   ]
  },
  {
   "cell_type": "code",
   "execution_count": 46,
   "metadata": {},
   "outputs": [],
   "source": [
    "from collections import defaultdict\n",
    "\n",
    "def combine_autocomplete_terms(autocomplete_terms):\n",
    "    combined_results = []\n",
    "\n",
    "    for term in autocomplete_terms:\n",
    "        result = {\"text\": term[0][\"text\"], \"candidates\": defaultdict(lambda: {\"score\": 0, \"freq\": 0})}\n",
    "\n",
    "        for option in term:\n",
    "            if option[\"options\"]:\n",
    "                for candidate in option[\"options\"]:\n",
    "                    candidate_text = candidate[\"text\"]\n",
    "                    candidate_score = candidate[\"score\"]\n",
    "                    candidate_freq = candidate[\"freq\"]\n",
    "                    existing_candidate = result[\"candidates\"][candidate_text]\n",
    "                    \n",
    "                    # Update weighted average score and frequency\n",
    "                    existing_candidate[\"score\"] = (\n",
    "                        (existing_candidate[\"score\"] * existing_candidate[\"freq\"]) + \n",
    "                        (candidate_score * candidate_freq)\n",
    "                    ) / (existing_candidate[\"freq\"] + candidate_freq)\n",
    "                    existing_candidate[\"freq\"] += candidate_freq\n",
    "\n",
    "        # Convert defaultdict to regular dictionary\n",
    "        result[\"candidates\"] = dict(result[\"candidates\"])\n",
    "        combined_results.append(result)\n",
    "\n",
    "    return combined_results\n",
    "\n"
   ]
  },
  {
   "cell_type": "code",
   "execution_count": 48,
   "metadata": {},
   "outputs": [],
   "source": [
    "p = []\n",
    "\n",
    "for term in np.array(list(res[\"suggest\"].values())).T:\n",
    "    result = {}\n",
    "    result[\"text\"] = term[0][\"text\"]\n",
    "    options = [v[\"options\"] for v in term]\n",
    "    result[\"candidates\"] = {}\n",
    "    for option in options:\n",
    "        candidates = {}\n",
    "        if len(option) > 0:\n",
    "            candidates[\"text\"] = option[0][\"text\"]\n",
    "            for candidate in option:\n",
    "                if candidate[\"text\"] not in result[\"candidates\"]:\n",
    "                    result[\"candidates\"][candidate[\"text\"]] = {\n",
    "                        \"score\": candidate[\"score\"],\n",
    "                        \"freq\": candidate[\"freq\"],\n",
    "                    }\n",
    "                else:\n",
    "                    result[\"candidates\"][candidate[\"text\"]][\"score\"] = (\n",
    "                        result[\"candidates\"][candidate[\"text\"]][\"score\"]\n",
    "                        * result[\"candidates\"][candidate[\"text\"]][\"freq\"]\n",
    "                        + candidate[\"score\"] * candidate[\"freq\"]\n",
    "                    ) / (\n",
    "                        result[\"candidates\"][candidate[\"text\"]][\"freq\"]\n",
    "                        + candidate[\"freq\"]\n",
    "                    )\n",
    "                    result[\"candidates\"][candidate[\"text\"]][\"freq\"] = (\n",
    "                        result[\"candidates\"][candidate[\"text\"]][\"freq\"]\n",
    "                        + candidate[\"freq\"]\n",
    "                    )\n",
    "    p += [result[\"candidates\"]] \n"
   ]
  },
  {
   "cell_type": "code",
   "execution_count": 49,
   "metadata": {},
   "outputs": [
    {
     "data": {
      "text/plain": [
       "[{'pancake': {'score': 0.85714287, 'freq': 298},\n",
       "  'pancakes': {'score': 0.71428573, 'freq': 628},\n",
       "  'panckes': {'score': 0.71428573, 'freq': 1},\n",
       "  'panco': {'score': 0.6, 'freq': 1}},\n",
       " {},\n",
       " {'berry': {'score': 0.8000000000000002, 'freq': 119},\n",
       "  'burst': {'score': 0.6, 'freq': 34},\n",
       "  'burnt': {'score': 0.5999999999999999, 'freq': 33},\n",
       "  'bears': {'score': 0.6, 'freq': 4},\n",
       "  'beast': {'score': 0.6, 'freq': 3},\n",
       "  'beard': {'score': 0.6, 'freq': 2},\n",
       "  'beery': {'score': 0.6, 'freq': 1},\n",
       "  'beers': {'score': 0.6, 'freq': 2},\n",
       "  'barry': {'score': 0.6, 'freq': 1}}]"
      ]
     },
     "execution_count": 49,
     "metadata": {},
     "output_type": "execute_result"
    }
   ],
   "source": [
    "p"
   ]
  },
  {
   "cell_type": "code",
   "execution_count": 52,
   "metadata": {},
   "outputs": [],
   "source": [
    "resp = []\n",
    "\n",
    "for suggestion in p:\n",
    "    new_data = [{'text': key, 'score': value['score'], 'freq': value['freq']} for key, value in suggestion.items()]\n",
    "    resp.append(new_data)\n",
    "\n",
    "\n"
   ]
  },
  {
   "cell_type": "code",
   "execution_count": 53,
   "metadata": {},
   "outputs": [
    {
     "data": {
      "text/plain": [
       "[[{'text': 'pancake', 'score': 0.85714287, 'freq': 298},\n",
       "  {'text': 'pancakes', 'score': 0.71428573, 'freq': 628},\n",
       "  {'text': 'panckes', 'score': 0.71428573, 'freq': 1},\n",
       "  {'text': 'panco', 'score': 0.6, 'freq': 1}],\n",
       " [],\n",
       " [{'text': 'berry', 'score': 0.8000000000000002, 'freq': 119},\n",
       "  {'text': 'burst', 'score': 0.6, 'freq': 34},\n",
       "  {'text': 'burnt', 'score': 0.5999999999999999, 'freq': 33},\n",
       "  {'text': 'bears', 'score': 0.6, 'freq': 4},\n",
       "  {'text': 'beast', 'score': 0.6, 'freq': 3},\n",
       "  {'text': 'beard', 'score': 0.6, 'freq': 2},\n",
       "  {'text': 'beery', 'score': 0.6, 'freq': 1},\n",
       "  {'text': 'beers', 'score': 0.6, 'freq': 2},\n",
       "  {'text': 'barry', 'score': 0.6, 'freq': 1}]]"
      ]
     },
     "execution_count": 53,
     "metadata": {},
     "output_type": "execute_result"
    }
   ],
   "source": [
    "resp"
   ]
  }
 ],
 "metadata": {
  "kernelspec": {
   "display_name": "base",
   "language": "python",
   "name": "python3"
  },
  "language_info": {
   "codemirror_mode": {
    "name": "ipython",
    "version": 3
   },
   "file_extension": ".py",
   "mimetype": "text/x-python",
   "name": "python",
   "nbconvert_exporter": "python",
   "pygments_lexer": "ipython3",
   "version": "3.11.5"
  }
 },
 "nbformat": 4,
 "nbformat_minor": 2
}
